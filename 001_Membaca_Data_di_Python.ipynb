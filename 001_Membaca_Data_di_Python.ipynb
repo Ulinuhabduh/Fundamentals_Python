{
 "cells": [
  {
   "cell_type": "markdown",
   "id": "f3192a3d-9e54-466d-865b-29919d0f6a51",
   "metadata": {
    "editable": true,
    "slideshow": {
     "slide_type": ""
    },
    "tags": []
   },
   "source": [
    "# Membaca Data di Python"
   ]
  },
  {
   "cell_type": "markdown",
   "id": "934067dc-0ea1-4e73-b775-de86a3047447",
   "metadata": {},
   "source": [
    "**Pendahuluan**\n",
    "\n",
    "Di Python, kita dapat membaca data dari pengguna menggunakan fungsi `input()`. Data yang dibaca melalui `input()` secara default berformat string, sehingga kita perlu melakukan konversi untuk tipe data lain seperti bilangan bulat atau bilangan rill."
   ]
  },
  {
   "cell_type": "markdown",
   "id": "5c936b8d-3311-40b2-9cd4-207151cd7161",
   "metadata": {},
   "source": [
    "**Membaca Data Karakter dan Teks**\n",
    "\n",
    "Untuk membaca teks atau karakter, Anda cukup menggunakan fungsi `input()` tanpa perlu mengubah tipe datanya, karena teks secara otomatis dianggap sebagai string."
   ]
  },
  {
   "cell_type": "code",
   "execution_count": null,
   "id": "9c38e2e6-618a-422d-a609-13daa276de67",
   "metadata": {},
   "outputs": [],
   "source": [
    "# Membaca teks dari pengguna\n",
    "nama = input(\"Masukkan nama Anda: \")\n",
    "print(\"Halo, \" + nama + \"!\")"
   ]
  },
  {
   "cell_type": "markdown",
   "id": "8e12ebef-30c7-4ab2-8ad3-70ea79b8ddbb",
   "metadata": {},
   "source": [
    "Contoh ini akan meminta pengguna memasukkan nama, lalu menyapa mereka."
   ]
  },
  {
   "cell_type": "markdown",
   "id": "3853786d-dce6-4ca2-b474-fc6bf57c60d3",
   "metadata": {},
   "source": [
    "**Membaca Bilangan Bulat (Integer)**\n",
    "\n",
    "Jika kita ingin membaca bilangan bulat, kita perlu mengonversi hasil `input()` menggunakan `int()`."
   ]
  },
  {
   "cell_type": "code",
   "execution_count": null,
   "id": "b5f00b30-1815-4b41-80a3-e3927e796bd4",
   "metadata": {},
   "outputs": [],
   "source": [
    "# Membaca bilangan bulat\n",
    "umur = int(input(\"Masukkan umur Anda: \"))\n",
    "print(\"Umur Anda adalah:\", umur)"
   ]
  },
  {
   "cell_type": "markdown",
   "id": "8440e74f-cbec-4cc1-aa58-ed4054374e97",
   "metadata": {},
   "source": [
    "Fungsi `int()` akan mengonversi teks yang dimasukkan pengguna menjadi bilangan bulat. Pastikan data yang dimasukkan memang angka, atau Python akan menghasilkan error."
   ]
  },
  {
   "cell_type": "markdown",
   "id": "919d605f-7af6-4fc1-9330-2a8d9e88c2c7",
   "metadata": {},
   "source": [
    "**Membaca Bilangan Rill (Float)**\n",
    "\n",
    "Untuk membaca bilangan rill (desimal), kita dapat menggunakan fungsi `float()` pada input."
   ]
  },
  {
   "cell_type": "code",
   "execution_count": null,
   "id": "c588f146-ecb4-438a-af51-9644c70182db",
   "metadata": {},
   "outputs": [],
   "source": [
    "# Membaca bilangan rill\n",
    "tinggi = float(input(\"Masukkan tinggi badan Anda (dalam meter): \"))\n",
    "print(\"Tinggi badan Anda adalah:\", tinggi, \"meter\")"
   ]
  },
  {
   "cell_type": "markdown",
   "id": "313450ff-b8ac-4dc7-8987-f542d7c734dc",
   "metadata": {},
   "source": [
    "Fungsi `float()` akan mengonversi teks yang dimasukkan pengguna menjadi bilangan desimal."
   ]
  },
  {
   "cell_type": "markdown",
   "id": "6a987103-9216-4939-a19c-469f96e987bf",
   "metadata": {},
   "source": [
    "**Contoh Penggunaan Gabungan**\n",
    "\n",
    "Anda juga dapat membaca beberapa data sekaligus dari pengguna dan menggabungkan tipe data yang berbeda."
   ]
  },
  {
   "cell_type": "code",
   "execution_count": null,
   "id": "4a72e344-30c2-47a1-9858-9225846774b8",
   "metadata": {
    "editable": true,
    "slideshow": {
     "slide_type": ""
    },
    "tags": []
   },
   "outputs": [],
   "source": [
    "# Membaca beberapa data dari pengguna\n",
    "nama = input(\"Masukkan nama: \")\n",
    "umur = int(input(\"Masukkan umur: \"))\n",
    "tinggi = float(input(\"Masukkan tinggi badan (m): \"))\n",
    "\n",
    "# Menampilkan informasi kembali kepada pengguna\n",
    "print(f\"Nama: {nama}, Umur: {umur} tahun, Tinggi: {tinggi} meter\")"
   ]
  },
  {
   "cell_type": "markdown",
   "id": "bf980aca-26df-4fed-9994-745427cd279d",
   "metadata": {},
   "source": [
    "**Kesimpulan**\n",
    "\n",
    "Membaca data dari pengguna di Python menggunakan `input()` mudah dan fleksibel. Anda dapat melakukan konversi tipe data jika ingin mengolah input sebagai bilangan bulat atau bilangan rill."
   ]
  }
 ],
 "metadata": {
  "kernelspec": {
   "display_name": "Python 3 (ipykernel)",
   "language": "python",
   "name": "python3"
  },
  "language_info": {
   "codemirror_mode": {
    "name": "ipython",
    "version": 3
   },
   "file_extension": ".py",
   "mimetype": "text/x-python",
   "name": "python",
   "nbconvert_exporter": "python",
   "pygments_lexer": "ipython3",
   "version": "3.13.0"
  }
 },
 "nbformat": 4,
 "nbformat_minor": 5
}
