{
 "cells": [
  {
   "cell_type": "markdown",
   "id": "fed11faa-a199-41c9-8eff-e110601e936e",
   "metadata": {},
   "source": [
    "# Struktur Pengulangan"
   ]
  },
  {
   "cell_type": "markdown",
   "id": "da162775-e2ca-4494-a189-f9434d93de3b",
   "metadata": {},
   "source": [
    "**Pendahuluan**\n",
    "\n",
    "Struktur pengulangan digunakan untuk mengeksekusi blok kode secara berulang, baik sejumlah iterasi tertentu atau selama kondisi tertentu terpenuhi. Python menyediakan dua jenis perulangan utama: `for` dan `while`.\n",
    "\n",
    "**1. Pengulangan `for`**\n",
    "\n",
    "Pernyataan `for` digunakan untuk mengulang item dalam koleksi (seperti list, tuple, dictionary, atau string) atau menggunakan fungsi `range()` untuk mengulangi blok kode beberapa kali.\n",
    "\n",
    "**Pengulangan dengan List**"
   ]
  },
  {
   "cell_type": "code",
   "execution_count": null,
   "id": "e02c95fb-ee4e-49ba-8ce1-c7a5a4bd431f",
   "metadata": {},
   "outputs": [],
   "source": [
    "buah = [\"apel\", \"mangga\", \"jeruk\"]\n",
    "for item in buah:\n",
    "    print(item)\n",
    "# Output:\n",
    "# apel\n",
    "# mangga\n",
    "# jeruk"
   ]
  },
  {
   "cell_type": "markdown",
   "id": "f3242d6d-c619-45e0-a797-8c5da6316588",
   "metadata": {},
   "source": [
    "**Pengulangan dengan `range()`**\n",
    "\n",
    "Fungsi `range()` menghasilkan urutan angka, yang sering digunakan untuk mengontrol jumlah iterasi dalam pengulangan."
   ]
  },
  {
   "cell_type": "code",
   "execution_count": null,
   "id": "102ac86a-d6bc-4793-b12e-eae14f831409",
   "metadata": {},
   "outputs": [],
   "source": [
    "for i in range(5):\n",
    "    print(\"Iterasi ke-\", i)\n",
    "# Output:\n",
    "# Iterasi ke- 0\n",
    "# Iterasi ke- 1\n",
    "# Iterasi ke- 2\n",
    "# Iterasi ke- 3\n",
    "# Iterasi ke- 4"
   ]
  },
  {
   "cell_type": "markdown",
   "id": "5dd80521-dd1a-4bcb-b8c6-748d59e51bca",
   "metadata": {},
   "source": [
    "**Penggunaan `range(start, stop, step)`**\n",
    "\n",
    "Anda dapat menyesuaikan awal (`start`), akhir (`stop`), dan langkah (`step`) dalam `range()`."
   ]
  },
  {
   "cell_type": "code",
   "execution_count": null,
   "id": "30bdc723-deb0-4248-8998-8e8e2172cef5",
   "metadata": {},
   "outputs": [],
   "source": [
    "for i in range(1, 10, 2):\n",
    "    print(i)\n",
    "# Output:\n",
    "# 1\n",
    "# 3\n",
    "# 5\n",
    "# 7\n",
    "# 9"
   ]
  },
  {
   "cell_type": "markdown",
   "id": "0058b20b-5b09-4c26-ba2a-7a0a440d086e",
   "metadata": {},
   "source": [
    "**2. Pengulangan `while`**\n",
    "\n",
    "Pernyataan `while` menjalankan blok kode selama kondisi yang diberikan bernilai `True`. Ini berguna jika Anda tidak tahu pasti jumlah iterasi yang diperlukan.\n",
    "\n",
    "**Contoh `while`**"
   ]
  },
  {
   "cell_type": "code",
   "execution_count": null,
   "id": "399d7161-193f-4434-abeb-2cd97190a5cd",
   "metadata": {},
   "outputs": [],
   "source": [
    "count = 0\n",
    "while count < 5:\n",
    "    print(\"Hitungan:\", count)\n",
    "    count += 1\n",
    "# Output:\n",
    "# Hitungan: 0\n",
    "# Hitungan: 1\n",
    "# Hitungan: 2\n",
    "# Hitungan: 3\n",
    "# Hitungan: 4"
   ]
  },
  {
   "cell_type": "markdown",
   "id": "dd78ca6c-b5c3-46ee-977b-d0aed5c6cb1e",
   "metadata": {},
   "source": [
    "Dalam contoh ini, perulangan akan terus berjalan selama `count` kurang dari 5."
   ]
  },
  {
   "cell_type": "markdown",
   "id": "a6194b14-198c-4897-9744-65054130b178",
   "metadata": {},
   "source": [
    "**3. Pernyataan `break` dan `continue`**\n",
    "\n",
    "Anda dapat menggunakan `break` untuk keluar dari perulangan lebih awal, atau `continue` untuk melewati iterasi saat ini dan melanjutkan ke iterasi berikutnya.\n",
    "\n",
    "**`break`**"
   ]
  },
  {
   "cell_type": "code",
   "execution_count": null,
   "id": "016860e2-e9d8-4762-8f09-00affe1e298c",
   "metadata": {},
   "outputs": [],
   "source": [
    "for i in range(10):\n",
    "    if i == 5:\n",
    "        break\n",
    "    print(i)\n",
    "# Output: 0, 1, 2, 3, 4"
   ]
  },
  {
   "cell_type": "markdown",
   "id": "cb78dc31-5c17-4630-9ca4-ab090ef08d5c",
   "metadata": {},
   "source": [
    "**`continue`**"
   ]
  },
  {
   "cell_type": "code",
   "execution_count": null,
   "id": "cb9f682c-013c-444e-ab4d-7ef9dac6e3c8",
   "metadata": {},
   "outputs": [],
   "source": [
    "for i in range(5):\n",
    "    if i == 2:\n",
    "        continue\n",
    "    print(i)\n",
    "# Output: 0, 1, 3, 4\n"
   ]
  },
  {
   "cell_type": "markdown",
   "id": "4f0c036d-3ead-4317-a0f5-0c2c2c26dcf4",
   "metadata": {},
   "source": [
    "Dalam contoh di atas, ketika `i` bernilai 2, `continue` akan melewatkan iterasi tersebut dan melanjutkan ke nilai berikutnya."
   ]
  },
  {
   "cell_type": "markdown",
   "id": "2d9e1864-0114-4484-bf36-cddcd1e8143a",
   "metadata": {},
   "source": [
    "**4. Pengulangan Bersarang**\n",
    "\n",
    "Anda dapat membuat pengulangan bersarang dengan menempatkan satu pengulangan di dalam pengulangan lain. Ini berguna untuk mengolah data dua dimensi, seperti matriks.\n",
    "\n",
    "**Contoh Pengulangan Bersarang**"
   ]
  },
  {
   "cell_type": "code",
   "execution_count": null,
   "id": "dd86a927-f7be-4aae-a09f-141a38d2f7bd",
   "metadata": {},
   "outputs": [],
   "source": [
    "for i in range(3):\n",
    "    for j in range(2):\n",
    "        print(f\"i = {i}, j = {j}\")\n",
    "# Output:\n",
    "# i = 0, j = 0\n",
    "# i = 0, j = 1\n",
    "# i = 1, j = 0\n",
    "# i = 1, j = 1\n",
    "# i = 2, j = 0\n",
    "# i = 2, j = 1"
   ]
  },
  {
   "cell_type": "markdown",
   "id": "003c850c-4602-41f9-87bc-d65eab2e4fff",
   "metadata": {},
   "source": [
    "**Kesimpulan**\n",
    "\n",
    "Struktur pengulangan for dan while memungkinkan Anda mengeksekusi blok kode secara berulang, baik berdasarkan koleksi data atau kondisi tertentu. break dan continue memberikan kontrol tambahan atas alur pengulangan, sedangkan pengulangan bersarang membantu mengelola data yang lebih kompleks."
   ]
  }
 ],
 "metadata": {
  "kernelspec": {
   "display_name": "Python 3 (ipykernel)",
   "language": "python",
   "name": "python3"
  },
  "language_info": {
   "codemirror_mode": {
    "name": "ipython",
    "version": 3
   },
   "file_extension": ".py",
   "mimetype": "text/x-python",
   "name": "python",
   "nbconvert_exporter": "python",
   "pygments_lexer": "ipython3",
   "version": "3.13.0"
  }
 },
 "nbformat": 4,
 "nbformat_minor": 5
}
