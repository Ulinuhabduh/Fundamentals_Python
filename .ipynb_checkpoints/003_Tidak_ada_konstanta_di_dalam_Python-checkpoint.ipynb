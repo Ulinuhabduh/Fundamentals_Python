{
 "cells": [
  {
   "cell_type": "markdown",
   "id": "7e0d8326-d7be-45b5-b5d8-54565d05eb8a",
   "metadata": {},
   "source": [
    "# Tidak Ada Konstanta di Dalam Python"
   ]
  },
  {
   "cell_type": "markdown",
   "id": "b423a26b-e49a-41ba-82f6-e39178790ea8",
   "metadata": {},
   "source": [
    "**Pendahuluan**\n",
    "\n",
    "Di banyak bahasa pemrograman lain, ada konsep konstanta, yaitu variabel yang nilainya tidak boleh diubah setelah dideklarasikan. Namun, Python tidak memiliki konstanta bawaan. Meskipun begitu, kita dapat menggunakan konvensi tertentu untuk membuat variabel yang dianggap sebagai \"konstanta\" dan memberi tahu programmer lain bahwa variabel tersebut sebaiknya tidak diubah."
   ]
  },
  {
   "cell_type": "markdown",
   "id": "6c1e073f-7ea4-4bfe-ab8e-0eee346957cc",
   "metadata": {},
   "source": [
    "**Konvensi Penulisan Konstanta**\n",
    "\n",
    "Di Python, konvensi penulisan konstanta adalah dengan menggunakan huruf kapital semua (uppercase) untuk nama variabel. Meskipun nilai variabel ini masih bisa diubah, konvensi ini menunjukkan kepada programmer lain bahwa variabel tersebut sebaiknya diperlakukan sebagai konstanta."
   ]
  },
  {
   "cell_type": "code",
   "execution_count": null,
   "id": "4fc768db-7534-49bd-9aca-0cd24bce67fc",
   "metadata": {},
   "outputs": [],
   "source": [
    "# Contoh konvensi konstanta\n",
    "PI = 3.14159\n",
    "GRAVITASI = 9.8\n",
    "KECEPATAN_CAHAYA = 299792458  # dalam m/s\n",
    "\n",
    "print(\"Nilai Pi:\", PI)\n",
    "print(\"Gravitasi:\", GRAVITASI)\n",
    "print(\"Kecepatan Cahaya:\", KECEPATAN_CAHAYA)"
   ]
  },
  {
   "cell_type": "markdown",
   "id": "5eecee1d-39cb-439e-aff0-1c6d3eddc070",
   "metadata": {},
   "source": [
    "Pada contoh di atas:\n",
    "\n",
    "- `PI`, `GRAVITASI`, dan `KECEPATAN_CAHAYA` adalah variabel yang secara konvensional dianggap sebagai konstanta karena ditulis dalam huruf kapital semua.\n",
    "- Namun, Python tidak melarang perubahan nilainya."
   ]
  },
  {
   "cell_type": "markdown",
   "id": "b301ea43-4122-41ef-912e-a6e314cc5eeb",
   "metadata": {},
   "source": [
    "**Mengapa Tidak Ada Konstanta?**\n",
    "\n",
    "Python dirancang untuk menjadi bahasa yang fleksibel dan dinamis. Konstanta yang tidak dapat diubah dianggap kurang penting dalam filosofi desain Python, sehingga pengguna bertanggung jawab untuk memastikan bahwa variabel tertentu tidak diubah jika seharusnya menjadi konstanta."
   ]
  },
  {
   "cell_type": "markdown",
   "id": "c9e4c0c3-58f9-4908-adc4-b3d826be657e",
   "metadata": {},
   "source": [
    "**Perlindungan Nilai Konstanta dengan Konvensi**\n",
    "\n",
    "Meskipun tidak ada cara bawaan untuk melindungi nilai konstanta, Anda dapat menjaga agar nilai variabel-konstanta tidak diubah dengan mengingat prinsip ini saat coding, terutama dalam tim."
   ]
  },
  {
   "cell_type": "code",
   "execution_count": null,
   "id": "c7f12793-b7be-4db0-8da8-2b66e726663b",
   "metadata": {},
   "outputs": [],
   "source": [
    "# Contoh pelanggaran konvensi\n",
    "PI = 3.14159  # Seharusnya tidak diubah\n",
    "PI = 3.14  # Tidak ada yang mencegah perubahan ini\n",
    "print(\"Nilai Pi yang diubah:\", PI)  # Output: Nilai Pi yang diubah: 3.14"
   ]
  },
  {
   "cell_type": "markdown",
   "id": "b992c61d-ec9b-416a-897f-411264450aba",
   "metadata": {},
   "source": [
    "**Pendekatan Alternatif: Gunakan Fungsi atau Modul**\n",
    "\n",
    "Jika Anda ingin memastikan bahwa nilai tertentu tidak diubah, salah satu pendekatan adalah mengenkapsulasi nilai dalam fungsi atau modul yang hanya menyediakan nilai tersebut untuk dibaca, bukan untuk ditulis ulang."
   ]
  },
  {
   "cell_type": "code",
   "execution_count": null,
   "id": "79ff0a6d-a9a7-4646-813e-8000ddf355db",
   "metadata": {},
   "outputs": [],
   "source": [
    "# Membuat konstanta dalam modul atau fungsi\n",
    "def get_pi():\n",
    "    return 3.14159\n",
    "\n",
    "print(\"Nilai Pi dari fungsi:\", get_pi())  # Nilai Pi dari fungsi: 3.14159"
   ]
  },
  {
   "cell_type": "markdown",
   "id": "ab27fdac-b256-4778-93ab-fdb3bda2e18e",
   "metadata": {},
   "source": [
    "Dengan pendekatan ini, nilai `PI` hanya bisa diakses melalui fungsi, sehingga lebih aman dari perubahan."
   ]
  },
  {
   "cell_type": "markdown",
   "id": "57537e33-0d27-4df5-976c-8940f654d40b",
   "metadata": {},
   "source": [
    "**Kesimpulan**\n",
    "\n",
    "Python tidak memiliki konstanta bawaan, tetapi Anda dapat menggunakan konvensi penulisan dengan huruf kapital untuk variabel yang sebaiknya tidak diubah. Dalam beberapa kasus, pendekatan ini bisa digabungkan dengan fungsi atau modul untuk memberikan keamanan lebih."
   ]
  }
 ],
 "metadata": {
  "kernelspec": {
   "display_name": "Python 3 (ipykernel)",
   "language": "python",
   "name": "python3"
  },
  "language_info": {
   "codemirror_mode": {
    "name": "ipython",
    "version": 3
   },
   "file_extension": ".py",
   "mimetype": "text/x-python",
   "name": "python",
   "nbconvert_exporter": "python",
   "pygments_lexer": "ipython3",
   "version": "3.13.0"
  }
 },
 "nbformat": 4,
 "nbformat_minor": 5
}
