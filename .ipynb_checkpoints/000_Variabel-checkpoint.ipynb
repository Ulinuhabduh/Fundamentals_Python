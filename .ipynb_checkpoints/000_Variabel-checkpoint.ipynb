{
 "cells": [
  {
   "cell_type": "markdown",
   "id": "4673cb2a-9b75-467e-a2b3-1fa711b8da7b",
   "metadata": {},
   "source": [
    "# Variables in Python"
   ]
  },
  {
   "cell_type": "markdown",
   "id": "4a90f53c-b27e-452e-911b-9f40d0aff2bd",
   "metadata": {},
   "source": [
    "**Pendahuluan**\n",
    "\n",
    "Variabel adalah tempat untuk menyimpan nilai yang dapat digunakan dan dimanipulasi dalam program. Dalam Python, variabel diciptakan saat Anda memberikan nilai kepadanya, dan Python menentukan tipe data berdasarkan nilai tersebut."
   ]
  },
  {
   "cell_type": "markdown",
   "id": "41414b3a-7886-4ed1-b359-53204f705387",
   "metadata": {},
   "source": [
    "**Deklarasi dan Penugasan Variabel**\n",
    "\n",
    "Di Python, Anda dapat langsung memberikan nilai ke variabel tanpa mendefinisikan tipe datanya terlebih dahulu.\n",
    "Berikut ini adalah contoh dasar deklarasi variabel:"
   ]
  },
  {
   "cell_type": "code",
   "execution_count": null,
   "id": "85d00160-b403-4e6c-95ab-3412773e4ff1",
   "metadata": {
    "editable": true,
    "slideshow": {
     "slide_type": ""
    },
    "tags": []
   },
   "outputs": [],
   "source": [
    "# Mendeklarasikan variabel\n",
    "x = 10  # variabel integer\n",
    "name = \"Alice\"  # variabel string\n",
    "is_active = True  # variabel boolean\n",
    "height = 1.75  # variabel float\n",
    "\n",
    "# Menampilkan nilai variabel\n",
    "print(x)       # Output: 10\n",
    "print(name)    # Output: Alice\n",
    "print(is_active)  # Output: True\n",
    "print(height)  # Output: 1.75"
   ]
  },
  {
   "cell_type": "markdown",
   "id": "03a7e355-bc61-4259-b338-eacc4bd30c91",
   "metadata": {},
   "source": [
    "**Aturan Penamaan Variabel**\n",
    "\n",
    "Variabel di Python harus mengikuti beberapa aturan penamaan:\n",
    "\n",
    "1. Harus dimulai dengan huruf atau underscore (`_`).\n",
    "2. Tidak boleh menggunakan karakter selain huruf, angka, dan underscore.\n",
    "3. Case-sensitive (`myVar` berbeda dari `myvar`).\n",
    "\n",
    "Contoh penamaan variabel yang benar dan salah:"
   ]
  },
  {
   "cell_type": "code",
   "execution_count": null,
   "id": "7f8fce43-6c50-4fb2-8880-5d3c507f0516",
   "metadata": {},
   "outputs": [],
   "source": [
    "# Penamaan variabel yang benar\n",
    "my_var = 5\n",
    "MyVar = 10\n",
    "_var = 3\n",
    "\n",
    "# Penamaan variabel yang salah\n",
    "# 2nd_var = 6  # Tidak boleh dimulai dengan angka\n",
    "# my-var = 7  # Tidak boleh mengandung tanda minus"
   ]
  },
  {
   "cell_type": "markdown",
   "id": "31c66fa4-ff35-47da-991e-6a80ed501ec0",
   "metadata": {},
   "source": [
    "**Memperbarui Nilai Variabel**\n",
    "\n",
    "Anda bisa memperbarui nilai variabel yang sudah ada dengan memberikan nilai baru."
   ]
  },
  {
   "cell_type": "code",
   "execution_count": null,
   "id": "d065fe91-ee14-4cec-9862-446c557aa08f",
   "metadata": {},
   "outputs": [],
   "source": [
    "# Memperbarui nilai variabel\n",
    "x = 10\n",
    "print(x)  # Output: 10\n",
    "\n",
    "x = 20\n",
    "print(x)  # Output: 20"
   ]
  },
  {
   "cell_type": "markdown",
   "id": "3ff07f8c-e18b-48d5-b273-e8a553fea24d",
   "metadata": {
    "editable": true,
    "slideshow": {
     "slide_type": ""
    },
    "tags": []
   },
   "source": [
    "**Variabel Multiple Assignment**\n",
    "\n",
    "Python memungkinkan Anda untuk memberikan beberapa variabel sekaligus dalam satu baris."
   ]
  },
  {
   "cell_type": "code",
   "execution_count": null,
   "id": "770a5046-8cc3-4f94-a7dd-707185071ba1",
   "metadata": {},
   "outputs": [],
   "source": [
    "# Memberikan nilai beberapa variabel sekaligus\n",
    "a, b, c = 5, 10, 15\n",
    "print(a, b, c)  # Output: 5 10 15\n",
    "\n",
    "# Memberikan nilai yang sama ke beberapa variabel\n",
    "x = y = z = 100\n",
    "print(x, y, z)  # Output: 100 100 100"
   ]
  },
  {
   "cell_type": "markdown",
   "id": "608a8058-ff49-4c82-aa5d-22df11d5d8d2",
   "metadata": {},
   "source": [
    "**Kesimpulan**\n",
    "\n",
    "Variabel dalam Python sangat fleksibel karena dapat menyimpan berbagai jenis data dan tidak memerlukan deklarasi tipe secara eksplisit. Ingat bahwa aturan penamaan harus diikuti agar kode lebih mudah dibaca dan bebas dari kesalahan."
   ]
  }
 ],
 "metadata": {
  "kernelspec": {
   "display_name": "Python 3 (ipykernel)",
   "language": "python",
   "name": "python3"
  },
  "language_info": {
   "codemirror_mode": {
    "name": "ipython",
    "version": 3
   },
   "file_extension": ".py",
   "mimetype": "text/x-python",
   "name": "python",
   "nbconvert_exporter": "python",
   "pygments_lexer": "ipython3",
   "version": "3.13.0"
  }
 },
 "nbformat": 4,
 "nbformat_minor": 5
}
