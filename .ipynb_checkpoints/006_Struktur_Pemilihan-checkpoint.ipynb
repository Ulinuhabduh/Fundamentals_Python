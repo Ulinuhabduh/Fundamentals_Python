{
 "cells": [
  {
   "cell_type": "markdown",
   "id": "21faaf57-c0ec-49b8-bdba-02d8e8ca65b4",
   "metadata": {},
   "source": [
    "# Struktur Pemilihan"
   ]
  },
  {
   "cell_type": "markdown",
   "id": "73b81fb4-ac38-431a-adf9-683e248d3f06",
   "metadata": {},
   "source": [
    "**Pendahuluan**\n",
    "\n",
    "Struktur pemilihan memungkinkan program menjalankan kode tertentu berdasarkan kondisi logika. Python menggunakan `if`, `elif`, dan `else` untuk mengatur alur logika berdasarkan hasil dari suatu kondisi."
   ]
  },
  {
   "cell_type": "markdown",
   "id": "d52d0f74-0326-49ca-a819-606753052ba4",
   "metadata": {},
   "source": [
    "**1. Pernyataan `if`**\n",
    "\n",
    "Pernyataan `if` digunakan untuk memeriksa kondisi. Jika kondisi bernilai `True`, blok kode di bawahnya akan dieksekusi. Jika `False`, program akan melewati blok tersebut.\n",
    "\n",
    "**Sintaks Dasar `if`**"
   ]
  },
  {
   "cell_type": "code",
   "execution_count": null,
   "id": "a7f1f2e5-d21a-438e-aeff-9d8f2ae6c330",
   "metadata": {},
   "outputs": [],
   "source": [
    "if kondisi:\n",
    "    # kode yang dijalankan jika kondisi True"
   ]
  },
  {
   "cell_type": "markdown",
   "id": "b164407a-68b7-4cf7-8cba-9b5884a9ca74",
   "metadata": {},
   "source": [
    "**Contoh Penggunaan `if`**"
   ]
  },
  {
   "cell_type": "code",
   "execution_count": null,
   "id": "e4afc705-e86f-4b73-a383-49f42632f634",
   "metadata": {},
   "outputs": [],
   "source": [
    "umur = 20\n",
    "if umur >= 18:\n",
    "    print(\"Anda sudah dewasa.\")  # Output: Anda sudah dewasa."
   ]
  },
  {
   "cell_type": "markdown",
   "id": "170bc2f1-d82c-437f-9430-5d3ed7747c4c",
   "metadata": {},
   "source": [
    "Pada contoh di atas, jika `umur` lebih besar atau sama dengan 18, maka pesan \"Anda sudah dewasa\" akan ditampilkan."
   ]
  },
  {
   "cell_type": "markdown",
   "id": "6e2d64ef-11d0-420e-9176-12c02092512d",
   "metadata": {},
   "source": [
    "**2. Pernyataan `if-else`**\n",
    "\n",
    "Pernyataan `if-else` memungkinkan kita untuk menjalankan blok kode berbeda jika kondisi `if` tidak terpenuhi.\n",
    "\n",
    "**Sintaks `if-else`**"
   ]
  },
  {
   "cell_type": "code",
   "execution_count": null,
   "id": "a82c95e2-2b10-4a69-9b9e-89ba33fcace3",
   "metadata": {},
   "outputs": [],
   "source": [
    "if kondisi:\n",
    "    # kode jika kondisi True\n",
    "else:\n",
    "    # kode jika kondisi False"
   ]
  },
  {
   "cell_type": "markdown",
   "id": "ad6d752f-34ec-4b29-b6d9-2b03745e6825",
   "metadata": {},
   "source": [
    "**Contoh Penggunaan `if-else`**"
   ]
  },
  {
   "cell_type": "code",
   "execution_count": null,
   "id": "799b925b-cf8f-4096-bdf9-7d4a9c91aa6b",
   "metadata": {},
   "outputs": [],
   "source": [
    "nilai = 55\n",
    "if nilai >= 60:\n",
    "    print(\"Anda lulus.\")\n",
    "else:\n",
    "    print(\"Anda tidak lulus.\")  # Output: Anda tidak lulus."
   ]
  },
  {
   "cell_type": "markdown",
   "id": "dc4de65a-d75c-49f4-949c-3b86f9ae2163",
   "metadata": {},
   "source": [
    "Pada contoh ini, jika `nilai` lebih besar atau sama dengan 60, maka pesan \"Anda lulus\" akan ditampilkan. Jika tidak, \"Anda tidak lulus\" akan ditampilkan."
   ]
  },
  {
   "cell_type": "markdown",
   "id": "2b9d3b11-3c44-438b-86d7-c71a276c733f",
   "metadata": {},
   "source": [
    "**3. Pernyataan `if-elif-else`**\n",
    "\n",
    "Jika ada lebih dari dua kondisi yang perlu diperiksa, Anda dapat menggunakan pernyataan `elif` (else if). Ini memungkinkan program memilih dari beberapa kemungkinan.\n",
    "\n",
    "**Sintaks `if-elif-else`**"
   ]
  },
  {
   "cell_type": "code",
   "execution_count": null,
   "id": "7828878d-f76c-4faf-8d30-df03a7b56532",
   "metadata": {},
   "outputs": [],
   "source": [
    "if kondisi1:\n",
    "    # kode jika kondisi1 True\n",
    "elif kondisi2:\n",
    "    # kode jika kondisi2 True\n",
    "else:\n",
    "    # kode jika semua kondisi di atas False"
   ]
  },
  {
   "cell_type": "markdown",
   "id": "812107c0-3a68-430b-8260-14d7cf55a1cc",
   "metadata": {},
   "source": [
    "**Contoh Penggunaan `if-elif-else`**"
   ]
  },
  {
   "cell_type": "code",
   "execution_count": null,
   "id": "c60d9eed-d7ec-4179-83f5-8e70d4755c8c",
   "metadata": {},
   "outputs": [],
   "source": [
    "umur = 17\n",
    "if umur >= 18:\n",
    "    print(\"Anda sudah dewasa.\")\n",
    "elif umur >= 13:\n",
    "    print(\"Anda remaja.\")  # Output: Anda remaja.\n",
    "else:\n",
    "    print(\"Anda anak-anak.\")"
   ]
  },
  {
   "cell_type": "markdown",
   "id": "8fc5e8ac-acf7-4873-8536-d3b76741a660",
   "metadata": {},
   "source": [
    "Di sini, jika `umur` lebih besar atau sama dengan 18, maka \"Anda sudah dewasa\" akan ditampilkan. Jika `umur` antara 13 dan 17, \"Anda remaja\" yang akan ditampilkan. Jika tidak, \"Anda anak-anak\" akan ditampilkan."
   ]
  },
  {
   "cell_type": "markdown",
   "id": "2a9d38b4-8a60-4579-ab93-95b91c72a949",
   "metadata": {},
   "source": [
    "**4. Pernyataan `if` Bersarang**\n",
    "\n",
    "Anda dapat menggunakan pernyataan `if` di dalam pernyataan `if` lain. Ini disebut `if` bersarang (nested if) dan berguna untuk mengecek beberapa kondisi bertingkat.\n",
    "\n",
    "**Contoh `if` Bersarang**"
   ]
  },
  {
   "cell_type": "code",
   "execution_count": null,
   "id": "59250703-02e9-4015-90ac-961210a92db5",
   "metadata": {},
   "outputs": [],
   "source": [
    "umur = 25\n",
    "kartu_identitas = True\n",
    "\n",
    "if umur >= 18:\n",
    "    if kartu_identitas:\n",
    "        print(\"Anda boleh masuk.\")  # Output: Anda boleh masuk.\n",
    "    else:\n",
    "        print(\"Anda butuh kartu identitas.\")\n",
    "else:\n",
    "    print(\"Anda belum cukup umur.\")"
   ]
  },
  {
   "cell_type": "markdown",
   "id": "c0228624-6710-4c6d-8686-3f072f1f6f43",
   "metadata": {},
   "source": [
    "Pada contoh ini, program akan memeriksa `umur`. Jika `umur` memenuhi syarat, program akan mengecek apakah `kartu_identitas` tersedia atau tidak.\n",
    "\n",
    "**Kesimpulan**\n",
    "\n",
    "Struktur pemilihan memungkinkan Anda menulis program yang lebih fleksibel dengan logika bercabang. Dengan menggunakan `if`, `elif`, dan `else`, Anda dapat mengatur jalur eksekusi program berdasarkan kondisi tertentu.\n",
    "\n"
   ]
  }
 ],
 "metadata": {
  "kernelspec": {
   "display_name": "Python 3 (ipykernel)",
   "language": "python",
   "name": "python3"
  },
  "language_info": {
   "codemirror_mode": {
    "name": "ipython",
    "version": 3
   },
   "file_extension": ".py",
   "mimetype": "text/x-python",
   "name": "python",
   "nbconvert_exporter": "python",
   "pygments_lexer": "ipython3",
   "version": "3.13.0"
  }
 },
 "nbformat": 4,
 "nbformat_minor": 5
}
