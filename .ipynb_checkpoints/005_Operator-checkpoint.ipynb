{
 "cells": [
  {
   "cell_type": "markdown",
   "id": "bd9a301d-d2ba-4a43-b2fe-10dd4a2d5b43",
   "metadata": {},
   "source": [
    "# Operator di Python"
   ]
  },
  {
   "cell_type": "markdown",
   "id": "4cd091c9-93b1-4589-a77e-d623054d7841",
   "metadata": {},
   "source": [
    "**Pendahuluan**\n",
    "\n",
    "Operator di Python memungkinkan kita melakukan berbagai operasi pada data. Terdapat beberapa jenis operator dalam Python, masing-masing dengan kegunaan spesifik."
   ]
  },
  {
   "cell_type": "markdown",
   "id": "c618ee17-363a-4b25-b11c-140c42657a66",
   "metadata": {},
   "source": [
    "**1. Operator Aritmatika**\n",
    "\n",
    "Operator aritmatika digunakan untuk melakukan operasi matematika dasar."
   ]
  },
  {
   "cell_type": "markdown",
   "id": "4754b256-424a-4ab6-9771-c0701e5a3590",
   "metadata": {},
   "source": [
    "![Operator Aritmatika](Images\\Operator_Aritmatika.png)"
   ]
  },
  {
   "cell_type": "markdown",
   "id": "33815d76-31c4-4581-b032-5a0967ea70ef",
   "metadata": {},
   "source": [
    "**Contoh Penggunaan**"
   ]
  },
  {
   "cell_type": "code",
   "execution_count": null,
   "id": "a900f0b3-6788-4f63-b1a2-9a6b217ca234",
   "metadata": {},
   "outputs": [],
   "source": [
    "a = 10\n",
    "b = 3\n",
    "\n",
    "print(\"Penjumlahan:\", a + b)  # Output: 13\n",
    "print(\"Pengurangan:\", a - b)  # Output: 7\n",
    "print(\"Perkalian:\", a * b)    # Output: 30\n",
    "print(\"Pembagian:\", a / b)    # Output: 3.3333\n",
    "print(\"Pembagian Bulat:\", a // b)  # Output: 3\n",
    "print(\"Modulus:\", a % b)      # Output: 1\n",
    "print(\"Pangkat:\", a ** b)     # Output: 1000"
   ]
  },
  {
   "cell_type": "markdown",
   "id": "cc54310a-fa4e-4b46-9ff4-179858abda10",
   "metadata": {},
   "source": [
    "**2. Operator Penugasan**\n",
    "\n",
    "Operator penugasan digunakan untuk memberikan nilai pada variabel."
   ]
  },
  {
   "cell_type": "markdown",
   "id": "dc441465-0662-4320-8b3b-47385f33e93d",
   "metadata": {},
   "source": [
    "![Operator Penugasan](Images\\Operator_Penugasan.png)"
   ]
  },
  {
   "cell_type": "markdown",
   "id": "47fea6e0-080a-477f-9e65-7ecf3b194ade",
   "metadata": {},
   "source": [
    "**Contoh Penggunaan**"
   ]
  },
  {
   "cell_type": "code",
   "execution_count": null,
   "id": "9faef696-b660-49a4-859f-9f6368729db0",
   "metadata": {},
   "outputs": [],
   "source": [
    "x = 5\n",
    "x += 3  # Sama dengan x = x + 3\n",
    "print(\"Nilai x setelah += 3:\", x)  # Output: 8"
   ]
  },
  {
   "cell_type": "markdown",
   "id": "b3f1b353-3cb2-4b77-b312-19e70843c281",
   "metadata": {},
   "source": [
    "**3. Operator Perbandingan**\n",
    "\n",
    "Operator perbandingan digunakan untuk membandingkan dua nilai dan mengembalikan nilai boolean (`True` atau `False`)."
   ]
  },
  {
   "cell_type": "markdown",
   "id": "0f0ae932-cb13-4dc4-abba-2e0060b57463",
   "metadata": {},
   "source": [
    "![Operator Perbandingan](Images\\Operator_Perbandingan.png)"
   ]
  },
  {
   "cell_type": "markdown",
   "id": "3f3f25e4-79ec-4d71-b539-b945d8b1a8fa",
   "metadata": {},
   "source": [
    "**Contoh Penggunaan**"
   ]
  },
  {
   "cell_type": "code",
   "execution_count": null,
   "id": "6bcf3973-0f71-444d-a675-aea9d048b0ac",
   "metadata": {},
   "outputs": [],
   "source": [
    "a = 5\n",
    "b = 3\n",
    "\n",
    "print(\"Sama dengan:\", a == b)  # Output: False\n",
    "print(\"Lebih besar dari:\", a > b)  # Output: True"
   ]
  },
  {
   "cell_type": "markdown",
   "id": "3c45d084-3bff-4c56-966e-80b83f5717fd",
   "metadata": {},
   "source": [
    "**4. Operator Logika**\n",
    "    \n",
    "Operator logika digunakan untuk menggabungkan kondisi."
   ]
  },
  {
   "cell_type": "markdown",
   "id": "07c32875-ad91-47dd-a3ee-fcdf6d41404a",
   "metadata": {},
   "source": [
    "![Operator Logika](Images\\Operasi_Logika.png)"
   ]
  },
  {
   "cell_type": "markdown",
   "id": "d60567b3-3be1-4ca6-8a0c-10c73c8964a4",
   "metadata": {},
   "source": [
    "**Contoh Penggunaan**"
   ]
  },
  {
   "cell_type": "code",
   "execution_count": null,
   "id": "3ea890e8-fcd7-4703-a7cb-3b583aac1f0c",
   "metadata": {},
   "outputs": [],
   "source": [
    "x = 5\n",
    "y = 3\n",
    "\n",
    "print(\"x > 3 and y < 5:\", x > 3 and y < 5)  # Output: True\n",
    "print(\"x > 3 or y > 5:\", x > 3 or y > 5)    # Output: True\n",
    "print(\"not(x > 3):\", not(x > 3))            # Output: False"
   ]
  },
  {
   "cell_type": "markdown",
   "id": "15183f7b-a076-4d77-915c-7a2291606b73",
   "metadata": {},
   "source": [
    "**5. Operator Bitwise**\n",
    " \n",
    "Operator bitwise bekerja pada level biner, melakukan operasi bit demi bit."
   ]
  },
  {
   "cell_type": "markdown",
   "id": "5a314ec7-696e-45b8-965c-541849c3cae8",
   "metadata": {},
   "source": [
    "![Operator Bitwise](Images\\Operator_Bitwise.png)"
   ]
  },
  {
   "cell_type": "markdown",
   "id": "22c5fefd-56d5-4253-8f88-a4bc6651d5d8",
   "metadata": {},
   "source": [
    "**Contoh Penggunaan**"
   ]
  },
  {
   "cell_type": "code",
   "execution_count": null,
   "id": "87d8ecee-66ad-4cdd-89fb-f9e36b1c6528",
   "metadata": {},
   "outputs": [],
   "source": [
    "a = 5  # 101 dalam biner\n",
    "b = 3  # 011 dalam biner\n",
    "\n",
    "print(\"a & b:\", a & b)  # Output: 1 (001 dalam biner)\n",
    "print(\"a | b:\", a | b)  # Output: 7 (111 dalam biner)"
   ]
  },
  {
   "cell_type": "markdown",
   "id": "a5281f97-7da5-4e6a-9850-f348797ea1c3",
   "metadata": {},
   "source": [
    "**Kesimpulan**\n",
    "\n",
    "Operator adalah dasar dalam pemrograman Python untuk melakukan operasi pada data. Memahami berbagai jenis operator dan cara penggunaannya membantu Anda membuat program yang lebih kompleks dan fungsional."
   ]
  }
 ],
 "metadata": {
  "kernelspec": {
   "display_name": "Python 3 (ipykernel)",
   "language": "python",
   "name": "python3"
  },
  "language_info": {
   "codemirror_mode": {
    "name": "ipython",
    "version": 3
   },
   "file_extension": ".py",
   "mimetype": "text/x-python",
   "name": "python",
   "nbconvert_exporter": "python",
   "pygments_lexer": "ipython3",
   "version": "3.13.0"
  }
 },
 "nbformat": 4,
 "nbformat_minor": 5
}
