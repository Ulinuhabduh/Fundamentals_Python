{
 "cells": [
  {
   "cell_type": "markdown",
   "id": "662b1860-1673-4593-a851-2dad4d05d06f",
   "metadata": {},
   "source": [
    "# Dalam Python, Semua adalah Objek"
   ]
  },
  {
   "cell_type": "markdown",
   "id": "88f391b3-d09f-4412-8710-236b7374bd1b",
   "metadata": {},
   "source": [
    "**Pendahuluan**\n",
    "\n",
    "Di Python, semuanya adalah objek. Mulai dari angka, teks, hingga fungsi dan kelas, semuanya merupakan objek yang memiliki sifat dan metode. Hal ini memungkinkan Python menjadi bahasa pemrograman yang sangat fleksibel dan dinamis."
   ]
  },
  {
   "cell_type": "markdown",
   "id": "c5f646d7-74c3-48f2-a88f-b280cac22c49",
   "metadata": {},
   "source": [
    "**Apa itu Objek?**\n",
    "\n",
    "Objek adalah entitas dalam pemrograman yang memiliki dua karakteristik utama:\n",
    "\n",
    "1. **Atribut**: Properti atau data yang dimiliki objek.\n",
    "2. **Metode**: Fungsi atau perilaku yang dimiliki objek.\n",
    "\n",
    "Setiap variabel yang Anda buat di Python sebenarnya adalah referensi ke objek di memori. Mari kita lihat contoh dasar objek di Python."
   ]
  },
  {
   "cell_type": "markdown",
   "id": "3bd37225-2df3-4f1e-b3f7-a34e4c948597",
   "metadata": {},
   "source": [
    "**Contoh Objek pada Tipe Data Dasar**\n",
    "\n",
    "Di Python, tipe data dasar seperti integer, float, dan string adalah objek yang memiliki metode bawaan (built-in methods)."
   ]
  },
  {
   "cell_type": "code",
   "execution_count": null,
   "id": "c6bffde7-1bab-4d2d-b299-872fd45bf71e",
   "metadata": {},
   "outputs": [],
   "source": [
    "# Tipe data integer sebagai objek\n",
    "angka = 42\n",
    "print(type(angka))  # Output: <class 'int'>\n",
    "print(angka.bit_length())  # Metode objek integer untuk menghitung jumlah bit yang digunakan\n",
    "\n",
    "# Tipe data string sebagai objek\n",
    "teks = \"Hello, Python!\"\n",
    "print(type(teks))  # Output: <class 'str'>\n",
    "print(teks.upper())  # Metode objek string untuk mengubah teks menjadi huruf besar"
   ]
  },
  {
   "cell_type": "markdown",
   "id": "73116209-e3c7-471e-b667-a9ce8eff9bde",
   "metadata": {},
   "source": [
    "Pada contoh di atas:\n",
    "\n",
    "- `angka` adalah objek integer dengan metode `bit_length()` yang menunjukkan jumlah bit yang digunakan untuk merepresentasikan angka.\n",
    "- `teks` adalah objek string dengan metode `upper()` yang mengubah teks menjadi huruf besar."
   ]
  },
  {
   "cell_type": "markdown",
   "id": "6494346d-4146-40d7-9b37-9201235d372b",
   "metadata": {},
   "source": [
    "**Setiap Tipe Data adalah Kelas**\n",
    "\n",
    "Python mendefinisikan tipe data dasar seperti integer (`int`), string (`str`), dan float (`float`) sebagai kelas bawaan. Saat Anda membuat variabel dengan nilai tertentu, Python membuat objek dari kelas tersebut."
   ]
  },
  {
   "cell_type": "code",
   "execution_count": null,
   "id": "3bfa5a05-1c9c-481e-aaf7-a621f677cef8",
   "metadata": {},
   "outputs": [],
   "source": [
    "# Membuat objek dari tipe data string\n",
    "pesan = str(\"Ini adalah objek string\")\n",
    "print(pesan.lower())  # Memanggil metode lower() pada objek string\n",
    "\n",
    "# Membuat objek dari tipe data float\n",
    "bilangan = float(3.14)\n",
    "print(bilangan.is_integer())  # Memanggil metode is_integer() pada objek float"
   ]
  },
  {
   "cell_type": "markdown",
   "id": "fb77ed9d-6c4b-4ecf-8871-606c2a792a15",
   "metadata": {},
   "source": [
    "Setiap variabel, seperti `pesan` dan `bilangan`, sebenarnya adalah objek dari kelas bawaan Python (`str` dan `float`), yang memiliki metode yang dapat kita gunakan untuk manipulasi data."
   ]
  },
  {
   "cell_type": "markdown",
   "id": "1cdecebf-7389-41e8-bf41-3d9c20672a6a",
   "metadata": {},
   "source": [
    "**Fungsi Juga Merupakan Objek**\n",
    "\n",
    "Python adalah bahasa yang sangat fleksibel sehingga fungsi juga dianggap sebagai objek. Ini memungkinkan Anda menyimpan fungsi dalam variabel atau bahkan menggunakannya sebagai argumen untuk fungsi lainnya."
   ]
  },
  {
   "cell_type": "code",
   "execution_count": null,
   "id": "21a21ce7-132d-455e-8b77-e33d4fcc3fb0",
   "metadata": {},
   "outputs": [],
   "source": [
    "# Fungsi sebagai objek\n",
    "def sapa():\n",
    "    return \"Hello!\"\n",
    "\n",
    "ucapan = sapa  # Menyimpan fungsi ke dalam variabel\n",
    "print(ucapan())  # Memanggil fungsi melalui variabel\n",
    "\n",
    "# Menggunakan fungsi sebagai argumen\n",
    "def jalankan_fungsi(fungsi):\n",
    "    print(fungsi())\n",
    "\n",
    "jalankan_fungsi(sapa)  # Output: Hello!"
   ]
  },
  {
   "cell_type": "markdown",
   "id": "c85910de-fc29-47ec-9257-cee525cde01c",
   "metadata": {},
   "source": [
    "**Kesimpulan**\n",
    "\n",
    "Memahami bahwa semua adalah objek dalam Python memberi Anda pemahaman lebih dalam tentang cara bekerja dengan variabel, tipe data, dan fungsi. Setiap objek memiliki metode dan atribut yang dapat digunakan, membuat Python menjadi bahasa yang sangat dinamis dan kuat."
   ]
  }
 ],
 "metadata": {
  "kernelspec": {
   "display_name": "Python 3 (ipykernel)",
   "language": "python",
   "name": "python3"
  },
  "language_info": {
   "codemirror_mode": {
    "name": "ipython",
    "version": 3
   },
   "file_extension": ".py",
   "mimetype": "text/x-python",
   "name": "python",
   "nbconvert_exporter": "python",
   "pygments_lexer": "ipython3",
   "version": "3.13.0"
  }
 },
 "nbformat": 4,
 "nbformat_minor": 5
}
