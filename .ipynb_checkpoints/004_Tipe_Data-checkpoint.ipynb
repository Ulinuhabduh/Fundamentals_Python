{
 "cells": [
  {
   "cell_type": "markdown",
   "id": "76c40e2a-ae54-4295-ac21-97787a1af861",
   "metadata": {},
   "source": [
    "# Tipe Numerik, String, dan Boolean"
   ]
  },
  {
   "cell_type": "markdown",
   "id": "01d6545b-c13e-4256-9aa2-2b253b7d6f9a",
   "metadata": {},
   "source": [
    "**Pendahuluan**\n",
    "\n",
    "Python memiliki beberapa tipe data dasar yang sering digunakan: numerik, string, dan boolean. Tipe data ini adalah fondasi dari banyak operasi dan struktur dalam Python, dan memahami cara menggunakannya sangat penting untuk membuat kode yang efektif."
   ]
  },
  {
   "cell_type": "markdown",
   "id": "76513b19-81bb-485d-91d4-1064f4ecba2a",
   "metadata": {},
   "source": [
    "**1. Tipe Numerik**\n",
    "\n",
    "Tipe numerik di Python mencakup integer dan float:\n",
    "\n",
    "- **Integer** (bilangan bulat) adalah bilangan tanpa desimal, contohnya `10`, `-5`.\n",
    "- **Float** (bilangan rill atau desimal) adalah bilangan dengan titik desimal, seperti `3.14`, `-0.5`.\n",
    "\n",
    "**Contoh Integer dan Float**"
   ]
  },
  {
   "cell_type": "code",
   "execution_count": null,
   "id": "08c34f80-bb9a-4142-9bd6-a1442f0724bd",
   "metadata": {},
   "outputs": [],
   "source": [
    "# Contoh integer\n",
    "umur = 25\n",
    "tahun = 2024\n",
    "print(\"Umur:\", umur)  # Output: 25\n",
    "print(\"Tahun:\", tahun)  # Output: 2024\n",
    "\n",
    "# Contoh float\n",
    "pi = 3.14159\n",
    "tinggi = 1.75\n",
    "print(\"Nilai Pi:\", pi)  # Output: 3.14159\n",
    "print(\"Tinggi:\", tinggi)  # Output: 1.75"
   ]
  },
  {
   "cell_type": "markdown",
   "id": "6761b265-bce3-4c3c-aeee-cec80fa4719c",
   "metadata": {},
   "source": [
    "Python juga mendukung operasi matematika dasar untuk tipe numerik, seperti penjumlahan, pengurangan, perkalian, dan pembagian."
   ]
  },
  {
   "cell_type": "code",
   "execution_count": null,
   "id": "2f0845f8-bea9-4f96-8bf3-12f028aa20bc",
   "metadata": {},
   "outputs": [],
   "source": [
    "# Operasi matematika\n",
    "a = 10\n",
    "b = 3\n",
    "print(\"Penjumlahan:\", a + b)  # Output: 13\n",
    "print(\"Pengurangan:\", a - b)  # Output: 7\n",
    "print(\"Perkalian:\", a * b)  # Output: 30\n",
    "print(\"Pembagian:\", a / b)  # Output: 3.3333"
   ]
  },
  {
   "cell_type": "markdown",
   "id": "bb2a2c82-485c-4768-8510-c990cb6ce48c",
   "metadata": {},
   "source": [
    "**2. Tipe String**\n",
    "\n",
    "String adalah tipe data untuk teks, yang ditulis di antara tanda kutip tunggal (`'...'`) atau ganda (`\"...\"`). String adalah urutan karakter dan mendukung berbagai metode untuk manipulasi teks.\n",
    "\n",
    "**Contoh String**"
   ]
  },
  {
   "cell_type": "code",
   "execution_count": null,
   "id": "9018a627-a577-4d2c-80e0-bde74614016d",
   "metadata": {},
   "outputs": [],
   "source": [
    "# Contoh string\n",
    "nama = \"Alice\"\n",
    "sapaan = \"Selamat pagi\"\n",
    "print(\"Nama:\", nama)  # Output: Alice\n",
    "print(\"Sapaan:\", sapaan)  # Output: Selamat pagi"
   ]
  },
  {
   "cell_type": "markdown",
   "id": "13ef567c-f49a-471c-8971-4d1c2d492aec",
   "metadata": {},
   "source": [
    "**Operasi String**\n",
    "\n",
    "Python memungkinkan operasi seperti penggabungan (concatenation) dan metode manipulasi string lainnya."
   ]
  },
  {
   "cell_type": "code",
   "execution_count": null,
   "id": "0c37941c-5cb9-439e-bf46-6bc7a905c8e3",
   "metadata": {},
   "outputs": [],
   "source": [
    "# Menggabungkan string\n",
    "nama_lengkap = \"Alice\" + \" \" + \"Smith\"\n",
    "print(\"Nama lengkap:\", nama_lengkap)  # Output: Alice Smith\n",
    "\n",
    "# Mengubah string\n",
    "teks = \"Hello, Python!\"\n",
    "print(teks.lower())  # Output: hello, python!\n",
    "print(teks.upper())  # Output: HELLO, PYTHON!\n",
    "print(teks.replace(\"Python\", \"World\"))  # Output: Hello, World!"
   ]
  },
  {
   "cell_type": "markdown",
   "id": "cd7d02bb-4be8-4fcf-9560-f9ef2b8cbbe4",
   "metadata": {},
   "source": [
    "**3. Tipe Boolean**\n",
    "\n",
    "Boolean adalah tipe data yang hanya memiliki dua nilai: `True` atau `False`. Tipe data ini digunakan dalam operasi logika dan kondisi.\n",
    "\n",
    "**Contoh Boolean**"
   ]
  },
  {
   "cell_type": "code",
   "execution_count": null,
   "id": "78d232de-398c-45b8-9584-ae02bb3d9683",
   "metadata": {},
   "outputs": [],
   "source": [
    "# Contoh boolean\n",
    "is_active = True\n",
    "is_logged_in = False\n",
    "print(\"Is active:\", is_active)  # Output: True\n",
    "print(\"Is logged in:\", is_logged_in)  # Output: False"
   ]
  },
  {
   "cell_type": "markdown",
   "id": "ba2a5b6f-dd45-4b96-9662-cb59663cd14e",
   "metadata": {},
   "source": [
    "**Operasi Logika**\n",
    "\n",
    "Boolean sering digunakan dalam operasi logika seperti `and`, `or`, dan `not`."
   ]
  },
  {
   "cell_type": "code",
   "execution_count": null,
   "id": "ff0b071f-2f38-4a93-8ae0-40d0efefb9f1",
   "metadata": {},
   "outputs": [],
   "source": [
    "# Operasi logika\n",
    "print(True and False)  # Output: False\n",
    "print(True or False)  # Output: True\n",
    "print(not True)  # Output: False"
   ]
  },
  {
   "cell_type": "markdown",
   "id": "1bccf970-ea61-4ab6-a513-51706ab8145b",
   "metadata": {},
   "source": [
    "**Kesimpulan**\n",
    "\n",
    "Tipe numerik, string, dan boolean adalah tipe data dasar yang mendasari banyak struktur dan operasi dalam Python. Memahami cara kerja dan operasi dasar pada setiap tipe data ini adalah langkah awal yang penting dalam pemrograman Python."
   ]
  },
  {
   "cell_type": "markdown",
   "id": "e744b2fe-2313-4e0b-8b83-335df9dca3f9",
   "metadata": {},
   "source": [
    "# Tipe List, Tuple, dan Dictionary"
   ]
  },
  {
   "cell_type": "markdown",
   "id": "32f99fba-fdf8-4b05-a7d8-c3f335837edb",
   "metadata": {},
   "source": [
    "**Pendahuluan**\n",
    "\n",
    "Python menyediakan berbagai struktur data untuk menyimpan koleksi data dengan cara yang efisien. Tiga tipe data yang paling sering digunakan adalah Dictionary, List, dan Tuple. Setiap tipe ini memiliki kegunaan spesifik tergantung pada kebutuhan, seperti penyimpanan berurutan atau akses berdasarkan kunci."
   ]
  },
  {
   "cell_type": "markdown",
   "id": "81bfeb88-dd42-46a3-901c-d2bcd77dbd1d",
   "metadata": {},
   "source": [
    "**1. Tipe List**\n",
    "\n",
    "List adalah struktur data yang digunakan untuk menyimpan data dalam urutan tertentu dan dapat diubah (mutable). List memungkinkan penyimpanan elemen dengan tipe data yang berbeda dan mendukung berbagai operasi untuk manipulasi data.\n",
    "\n",
    "**Contoh Membuat List**"
   ]
  },
  {
   "cell_type": "code",
   "execution_count": null,
   "id": "e61624fd-a834-44bf-a2d4-e0a5ab56ef5a",
   "metadata": {},
   "outputs": [],
   "source": [
    "# Membuat list dengan beberapa elemen\n",
    "buah = [\"apel\", \"mangga\", \"jeruk\"]\n",
    "angka = [1, 2, 3, 4, 5]\n",
    "\n",
    "print(\"List buah:\", buah)  # Output: [\"apel\", \"mangga\", \"jeruk\"]\n",
    "print(\"List angka:\", angka)  # Output: [1, 2, 3, 4, 5]"
   ]
  },
  {
   "cell_type": "markdown",
   "id": "c74b4f08-e645-4523-bdc1-a348304eb01c",
   "metadata": {},
   "source": [
    "**Operasi List**\n",
    "\n",
    "Anda dapat menambahkan, menghapus, atau mengakses elemen dalam list menggunakan indeks."
   ]
  },
  {
   "cell_type": "code",
   "execution_count": null,
   "id": "29779fe8-4c20-42c0-bed8-dc81d137eaa4",
   "metadata": {},
   "outputs": [],
   "source": [
    "# Menambah elemen\n",
    "buah.append(\"pisang\")\n",
    "print(\"Setelah menambah pisang:\", buah)  # Output: [\"apel\", \"mangga\", \"jeruk\", \"pisang\"]\n",
    "\n",
    "# Mengakses elemen\n",
    "print(\"Buah pertama:\", buah[0])  # Output: apel\n",
    "\n",
    "# Mengubah elemen\n",
    "buah[1] = \"anggur\"\n",
    "print(\"Setelah mengganti mangga dengan anggur:\", buah)  # Output: [\"apel\", \"anggur\", \"jeruk\", \"pisang\"]\n",
    "\n",
    "# Menghapus elemen\n",
    "buah.remove(\"jeruk\")\n",
    "print(\"Setelah menghapus jeruk:\", buah)  # Output: [\"apel\", \"anggur\", \"pisang\"]"
   ]
  },
  {
   "cell_type": "markdown",
   "id": "50fe8d40-b8ce-4814-81bd-51a1b19d3384",
   "metadata": {},
   "source": [
    "**2. Tipe Tuple**\n",
    "\n",
    "Tuple mirip dengan list, tetapi tidak dapat diubah (immutable), yang berarti data di dalamnya tidak dapat dimodifikasi setelah dideklarasikan. Tuple digunakan saat Anda membutuhkan data yang konstan.\n",
    "\n",
    "**Contoh Membuat Tuple**"
   ]
  },
  {
   "cell_type": "code",
   "execution_count": null,
   "id": "0e1f4f15-b83a-4aac-9345-d7a86ded7239",
   "metadata": {},
   "outputs": [],
   "source": [
    "# Membuat tuple\n",
    "koordinat = (10, 20)\n",
    "data_siswa = (\"Alice\", 20, \"Fisika\")\n",
    "\n",
    "print(\"Koordinat:\", koordinat)  # Output: (10, 20)\n",
    "print(\"Data siswa:\", data_siswa)  # Output: (\"Alice\", 20, \"Fisika\")"
   ]
  },
  {
   "cell_type": "markdown",
   "id": "0416a65a-ff77-46e5-9a40-dd47944f8311",
   "metadata": {},
   "source": [
    "**Akses Elemen Tuple**\n",
    "\n",
    "Tuple dapat diakses seperti list, tetapi Anda tidak bisa menambah, menghapus, atau memodifikasi elemen."
   ]
  },
  {
   "cell_type": "code",
   "execution_count": null,
   "id": "392ad050-2feb-4776-ad3e-cca4080ac48c",
   "metadata": {},
   "outputs": [],
   "source": [
    "# Mengakses elemen tuple\n",
    "print(\"Elemen pertama:\", koordinat[0])  # Output: 10\n",
    "print(\"Elemen kedua:\", koordinat[1])  # Output: 20\n",
    "\n",
    "# Tuple tidak dapat diubah\n",
    "# koordinat[0] = 15  # Akan menghasilkan error"
   ]
  },
  {
   "cell_type": "markdown",
   "id": "c9802747-d15d-4337-9d53-50f4819f6ae8",
   "metadata": {},
   "source": [
    "**3. Tipe Dictionary**\n",
    "\n",
    "Dictionary adalah struktur data yang menyimpan pasangan **key-value**. Dictionary memungkinkan akses data dengan kunci unik dan cocok untuk menyimpan data yang berpasangan, seperti data kontak atau informasi pengguna.\n",
    "\n",
    "**Contoh Membuat Dictionary**"
   ]
  },
  {
   "cell_type": "code",
   "execution_count": null,
   "id": "10462d23-4c95-4d7b-af27-0f20252834c6",
   "metadata": {},
   "outputs": [],
   "source": [
    "# Membuat dictionary\n",
    "kontak = {\"Alice\": \"081234567890\", \"Bob\": \"089876543210\"}\n",
    "\n",
    "print(\"Kontak:\", kontak)  # Output: {\"Alice\": \"081234567890\", \"Bob\": \"089876543210\"}"
   ]
  },
  {
   "cell_type": "markdown",
   "id": "3748b68c-27ea-4160-bb17-8c658f0c2afc",
   "metadata": {},
   "source": [
    "**Operasi Dictionary**\n",
    "\n",
    "Anda bisa menambahkan, mengakses, atau menghapus elemen dalam dictionary menggunakan kunci."
   ]
  },
  {
   "cell_type": "code",
   "execution_count": null,
   "id": "2e2e3bdd-fc04-4142-a5aa-79550164c2a5",
   "metadata": {},
   "outputs": [],
   "source": [
    "# Mengakses nilai dengan kunci\n",
    "print(\"Nomor Alice:\", kontak[\"Alice\"])  # Output: 081234567890\n",
    "\n",
    "# Menambah atau memperbarui elemen\n",
    "kontak[\"Charlie\"] = \"082233445566\"\n",
    "print(\"Setelah menambah Charlie:\", kontak)  # Output: {\"Alice\": \"081234567890\", \"Bob\": \"089876543210\", \"Charlie\": \"082233445566\"}\n",
    "\n",
    "# Menghapus elemen\n",
    "del kontak[\"Bob\"]\n",
    "print(\"Setelah menghapus Bob:\", kontak)  # Output: {\"Alice\": \"081234567890\", \"Charlie\": \"082233445566\"}"
   ]
  },
  {
   "cell_type": "markdown",
   "id": "8fac895b-7ce7-4e96-9cdd-4f567a0ec2b1",
   "metadata": {},
   "source": [
    "**Kesimpulan**\n",
    "\n",
    "List, tuple, dan dictionary adalah struktur data dasar di Python yang memungkinkan penyimpanan dan manipulasi koleksi data dengan cara yang berbeda. Memahami perbedaan di antara ketiganya membantu Anda memilih struktur yang tepat sesuai kebutuhan program."
   ]
  },
  {
   "cell_type": "markdown",
   "id": "ef830d6c-7263-48c9-9807-3fee6458319c",
   "metadata": {},
   "source": [
    "# Tipe Set"
   ]
  },
  {
   "cell_type": "markdown",
   "id": "09dc62af-a287-42d4-a0fe-d73b2a9d3f0b",
   "metadata": {},
   "source": [
    "**Pendahuluan**\n",
    "\n",
    "Set adalah tipe data yang menyimpan kumpulan item unik dalam Python. Tidak seperti list dan tuple, set tidak mendukung urutan (unordered) dan tidak mengizinkan elemen duplikat. Set sering digunakan saat Anda hanya membutuhkan kumpulan elemen unik dan untuk operasi himpunan, seperti gabungan, irisan, dan perbedaan."
   ]
  },
  {
   "cell_type": "markdown",
   "id": "4fd5d6e9-9f9e-4dd9-baca-6915edbecc87",
   "metadata": {},
   "source": [
    "**Membuat Set**\n",
    "\n",
    "Anda dapat membuat set menggunakan tanda kurung kurawal `{}` atau fungsi `set()`."
   ]
  },
  {
   "cell_type": "code",
   "execution_count": null,
   "id": "a04718f3-a5c9-4f9c-8985-243f15bb5c62",
   "metadata": {},
   "outputs": [],
   "source": [
    "# Membuat set\n",
    "buah = {\"apel\", \"mangga\", \"jeruk\"}\n",
    "print(\"Set buah:\", buah)  # Output mungkin acak karena set tidak berurutan\n",
    "\n",
    "# Membuat set dengan fungsi set()\n",
    "angka = set([1, 2, 3, 4, 5])\n",
    "print(\"Set angka:\", angka)  # Output: {1, 2, 3, 4, 5}"
   ]
  },
  {
   "cell_type": "markdown",
   "id": "b14121ea-4880-402b-97ed-f85e8bd166a9",
   "metadata": {},
   "source": [
    "**Karakteristik Set**\n",
    "\n",
    "1. **Unik**: Set tidak mengizinkan elemen duplikat.\n",
    "2. **Tidak Berurutan**: Set tidak memiliki indeks, jadi elemen-elemen dalam set tidak memiliki urutan tetap."
   ]
  },
  {
   "cell_type": "code",
   "execution_count": null,
   "id": "3d6e287c-004f-40dd-b53d-abde42e3e00f",
   "metadata": {},
   "outputs": [],
   "source": [
    "# Set menghapus elemen duplikat\n",
    "data = {1, 2, 2, 3, 4, 4, 5}\n",
    "print(\"Set tanpa duplikat:\", data)  # Output: {1, 2, 3, 4, 5}"
   ]
  },
  {
   "cell_type": "markdown",
   "id": "ed067d8d-2342-4fdd-bb88-d9fa7a88f4b1",
   "metadata": {},
   "source": [
    "**Operasi Dasar pada Set**\n",
    "\n",
    "Set mendukung berbagai operasi matematika seperti gabungan, irisan, dan perbedaan. Mari kita lihat operasi-operasi dasar tersebut."
   ]
  },
  {
   "cell_type": "markdown",
   "id": "ba701487-a08f-4f36-9220-dfcce05098af",
   "metadata": {},
   "source": [
    "**Menambah dan Menghapus Elemen**\n",
    "\n",
    "Set memungkinkan Anda untuk menambah elemen baru menggunakan `add()` dan menghapus elemen menggunakan `remove()` atau `discard()`."
   ]
  },
  {
   "cell_type": "code",
   "execution_count": null,
   "id": "5a6e0c5e-eceb-4326-a1e7-7aea6c99d09e",
   "metadata": {},
   "outputs": [],
   "source": [
    "# Menambah elemen\n",
    "buah.add(\"pisang\")\n",
    "print(\"Set buah setelah menambah pisang:\", buah)\n",
    "\n",
    "# Menghapus elemen\n",
    "buah.remove(\"apel\")  # Akan menghasilkan error jika elemen tidak ada\n",
    "buah.discard(\"jeruk\")  # Tidak menghasilkan error jika elemen tidak ada\n",
    "print(\"Set buah setelah menghapus:\", buah)"
   ]
  },
  {
   "cell_type": "markdown",
   "id": "553caf55-d0a6-4115-973b-9dbafe46b75b",
   "metadata": {},
   "source": [
    "**Gabungan (Union)**\n",
    "\n",
    "Gabungan dari dua set adalah set baru yang berisi semua elemen dari kedua set."
   ]
  },
  {
   "cell_type": "code",
   "execution_count": null,
   "id": "badf83e9-1c3b-4675-952e-b21601a46c4b",
   "metadata": {},
   "outputs": [],
   "source": [
    "A = {1, 2, 3}\n",
    "B = {3, 4, 5}\n",
    "gabungan = A | B  # atau A.union(B)\n",
    "print(\"Gabungan A dan B:\", gabungan)  # Output: {1, 2, 3, 4, 5}"
   ]
  },
  {
   "cell_type": "markdown",
   "id": "5d5c1176-a5c4-44ec-8202-a50d5bb9c3bd",
   "metadata": {},
   "source": [
    "**Irisan (Intersection)**\n",
    "\n",
    "Irisan dari dua set adalah set baru yang berisi elemen-elemen yang ada di kedua set."
   ]
  },
  {
   "cell_type": "code",
   "execution_count": null,
   "id": "93784cc6-4f4f-4293-ac67-d09ea69736e8",
   "metadata": {},
   "outputs": [],
   "source": [
    "irisan = A & B  # atau A.intersection(B)\n",
    "print(\"Irisan A dan B:\", irisan)  # Output: {3}"
   ]
  },
  {
   "cell_type": "markdown",
   "id": "c1999e25-bc43-43c3-902e-34c0a190f85b",
   "metadata": {},
   "source": [
    "**Perbedaan (Difference)**\n",
    "\n",
    "Perbedaan dari dua set adalah set baru yang berisi elemen-elemen dari set pertama yang tidak ada di set kedua."
   ]
  },
  {
   "cell_type": "code",
   "execution_count": null,
   "id": "f73dd31b-55c4-406c-92a6-f1cc366a0292",
   "metadata": {},
   "outputs": [],
   "source": [
    "perbedaan = A - B  # atau A.difference(B)\n",
    "print(\"Perbedaan A dan B:\", perbedaan)  # Output: {1, 2}"
   ]
  },
  {
   "cell_type": "markdown",
   "id": "e1f8866d-3c63-401c-912b-b9b5076a1994",
   "metadata": {},
   "source": [
    "**Perbedaan Simetris (Symmetric Difference)**\n",
    "\n",
    "Perbedaan simetris adalah set baru yang berisi elemen-elemen yang ada di salah satu dari dua set, tetapi tidak keduanya."
   ]
  },
  {
   "cell_type": "code",
   "execution_count": null,
   "id": "f9f0a084-9391-4c76-8179-c51979fa38e2",
   "metadata": {},
   "outputs": [],
   "source": [
    "perbedaan_simetris = A ^ B  # atau A.symmetric_difference(B)\n",
    "print(\"Perbedaan simetris A dan B:\", perbedaan_simetris)  # Output: {1, 2, 4, 5}"
   ]
  },
  {
   "cell_type": "markdown",
   "id": "5320834d-544e-49bd-b929-5ce03c4707b4",
   "metadata": {},
   "source": [
    "**Kesimpulan**\n",
    "\n",
    "Set adalah struktur data unik dalam Python yang memungkinkan penyimpanan elemen tanpa duplikasi dan tidak berurutan. Set sangat berguna untuk operasi himpunan seperti gabungan, irisan, dan perbedaan."
   ]
  },
  {
   "cell_type": "markdown",
   "id": "1caa9473-50fe-43e4-9f61-72d582b056ff",
   "metadata": {},
   "source": [
    "# Tipe NoneType"
   ]
  },
  {
   "cell_type": "markdown",
   "id": "6a3d0e63-679d-4c3d-bef1-7280c7d62a79",
   "metadata": {},
   "source": [
    "**Pendahuluan**\n",
    "\n",
    "Dalam Python, `None` adalah objek khusus yang digunakan untuk merepresentasikan \"tidak ada nilai\" atau \"ketiadaan\". Tipe data dari `None` adalah `NoneType`. `None` sering digunakan sebagai nilai default untuk variabel atau parameter fungsi, dan untuk menunjukkan bahwa suatu variabel belum memiliki nilai."
   ]
  },
  {
   "cell_type": "markdown",
   "id": "f521a513-d060-4939-ac45-1f94a7cf4714",
   "metadata": {},
   "source": [
    "**Membuat NoneType**\n",
    "\n",
    "Anda dapat membuat objek `NoneType` hanya dengan menggunakan kata kunci `None`."
   ]
  },
  {
   "cell_type": "code",
   "execution_count": null,
   "id": "b5e653b5-85cf-4ab1-96df-5af5b0b05b6c",
   "metadata": {},
   "outputs": [],
   "source": [
    "# Mendeklarasikan variabel dengan nilai None\n",
    "nilai = None\n",
    "print(\"Nilai:\", nilai)  # Output: Nilai: None\n",
    "print(\"Tipe data dari nilai:\", type(nilai))  # Output: <class 'NoneType'>"
   ]
  },
  {
   "cell_type": "markdown",
   "id": "31898650-0579-4342-811e-4d06856f1ae3",
   "metadata": {},
   "source": [
    "**Kegunaan NoneType**\n",
    "\n",
    "NoneType berguna dalam beberapa konteks pemrograman:\n",
    "\n",
    "1. **Nilai Default untuk Variabel**: Anda dapat menetapkan nilai None pada variabel yang belum ditentukan nilainya."
   ]
  },
  {
   "cell_type": "code",
   "execution_count": null,
   "id": "4757b870-a97e-4c80-8b01-60ec9ca53e01",
   "metadata": {},
   "outputs": [],
   "source": [
    "hasil = None  # Mengindikasikan bahwa hasil belum ditentukan\n",
    "if hasil is None:\n",
    "    print(\"Hasil belum diinisialisasi\")"
   ]
  },
  {
   "cell_type": "markdown",
   "id": "94e35865-5146-4962-9aab-a1b3a375cbec",
   "metadata": {},
   "source": [
    "2. **Hasil dari Fungsi Tanpa Return**: Jika sebuah fungsi tidak mengembalikan nilai, secara otomatis akan mengembalikan `None`."
   ]
  },
  {
   "cell_type": "code",
   "execution_count": null,
   "id": "bb28b6dd-75f9-45e4-86b8-b4e62fc95d11",
   "metadata": {},
   "outputs": [],
   "source": [
    "def sapa():\n",
    "    print(\"Hello!\")\n",
    "\n",
    "hasil = sapa()  # Tidak ada nilai yang dikembalikan\n",
    "print(\"Nilai dari hasil:\", hasil)  # Output: None"
   ]
  },
  {
   "cell_type": "markdown",
   "id": "b9a3e740-4aa4-45e3-84e5-562516a3b214",
   "metadata": {},
   "source": [
    "3. **Parameter Default pada Fungsi**: `None` sering digunakan sebagai nilai default untuk parameter opsional dalam fungsi."
   ]
  },
  {
   "cell_type": "code",
   "execution_count": null,
   "id": "86a691b6-cd6d-46af-983d-c7eec0ef69aa",
   "metadata": {},
   "outputs": [],
   "source": [
    "def tambah(x, y=None):\n",
    "    if y is None:\n",
    "        y = 0\n",
    "    return x + y\n",
    "\n",
    "print(tambah(5))  # Output: 5, karena y diatur ke 0\n",
    "print(tambah(5, 3))  # Output: 8"
   ]
  },
  {
   "cell_type": "markdown",
   "id": "2bc765a0-718d-4f74-9f8d-7603a52a3cb7",
   "metadata": {},
   "source": [
    "**Memeriksa Nilai None**\n",
    "\n",
    "Untuk memeriksa apakah suatu variabel adalah `None`, gunakan operator `is` alih-alih `==`, karena `is` memeriksa identitas objek, bukan kesetaraan."
   ]
  },
  {
   "cell_type": "code",
   "execution_count": null,
   "id": "5cef62cf-67f9-4631-b7e3-c12c6277adc6",
   "metadata": {},
   "outputs": [],
   "source": [
    "# Memeriksa nilai None\n",
    "nilai = None\n",
    "if nilai is None:\n",
    "    print(\"Nilai adalah None\")  # Output: Nilai adalah None\n",
    "else:\n",
    "    print(\"Nilai bukan None\")"
   ]
  },
  {
   "cell_type": "markdown",
   "id": "d047f4c2-d656-4029-8601-e0d3ba9583c8",
   "metadata": {},
   "source": [
    "**Kesimpulan**\n",
    "\n",
    "`NoneType` di Python digunakan untuk menunjukkan ketiadaan nilai. Dengan memanfaatkan `None`, kita dapat menginisialisasi variabel tanpa memberikan nilai tertentu, memeriksa kondisi, dan bekerja dengan parameter fungsi yang opsional."
   ]
  }
 ],
 "metadata": {
  "kernelspec": {
   "display_name": "Python 3 (ipykernel)",
   "language": "python",
   "name": "python3"
  },
  "language_info": {
   "codemirror_mode": {
    "name": "ipython",
    "version": 3
   },
   "file_extension": ".py",
   "mimetype": "text/x-python",
   "name": "python",
   "nbconvert_exporter": "python",
   "pygments_lexer": "ipython3",
   "version": "3.13.0"
  }
 },
 "nbformat": 4,
 "nbformat_minor": 5
}
