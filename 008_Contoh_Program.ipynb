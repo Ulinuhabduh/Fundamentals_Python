{
 "cells": [
  {
   "cell_type": "markdown",
   "id": "7d9b6f11-5f5b-4b74-9ee2-8095d70c2f3d",
   "metadata": {},
   "source": [
    "# Contoh-Contoh Program"
   ]
  },
  {
   "cell_type": "markdown",
   "id": "4204efa1-4e60-4ecb-b176-ea84aeb9c283",
   "metadata": {},
   "source": [
    "**1. Program Menghitung Luas Lingkaran**\n",
    "\n",
    "Menghitung luas lingkaran berdasarkan jari-jari yang dimasukkan oleh pengguna."
   ]
  },
  {
   "cell_type": "code",
   "execution_count": null,
   "id": "c7108baa-9ce1-4862-bd22-1da4c4fdab06",
   "metadata": {},
   "outputs": [],
   "source": [
    "# Menghitung Luas Lingkaran\n",
    "PI = 3.14159\n",
    "radius = float(input(\"Masukkan jari-jari lingkaran: \"))\n",
    "luas = PI * (radius ** 2)\n",
    "print(f\"Luas lingkaran adalah: {luas}\")"
   ]
  },
  {
   "cell_type": "markdown",
   "id": "a9ba82bc-63f8-47fe-a700-f006d41457d4",
   "metadata": {},
   "source": [
    "**2. Program Konversi Suhu dari Celsius ke Fahrenheit**\n",
    "\n",
    "Mengubah suhu dari skala Celsius ke Fahrenheit."
   ]
  },
  {
   "cell_type": "code",
   "execution_count": null,
   "id": "5e1bb16f-8fc7-4a9e-963f-db2d9cc77fd2",
   "metadata": {},
   "outputs": [],
   "source": [
    "# Konversi Suhu Celsius ke Fahrenheit\n",
    "celsius = float(input(\"Masukkan suhu dalam Celsius: \"))\n",
    "fahrenheit = (celsius * 9/5) + 32\n",
    "print(f\"Suhu dalam Fahrenheit: {fahrenheit}\")"
   ]
  },
  {
   "cell_type": "markdown",
   "id": "d1479572-b94a-4617-a9a6-fdf5549ab269",
   "metadata": {},
   "source": [
    "**3. Program Mengecek Bilangan Ganjil atau Genap**\n",
    "\n",
    "Program yang meminta angka dari pengguna dan mengecek apakah angka tersebut ganjil atau genap."
   ]
  },
  {
   "cell_type": "code",
   "execution_count": null,
   "id": "9ba3f577-f012-421f-ad47-435c39b45a57",
   "metadata": {},
   "outputs": [],
   "source": [
    "# Mengecek Bilangan Ganjil atau Genap\n",
    "angka = int(input(\"Masukkan angka: \"))\n",
    "if angka % 2 == 0:\n",
    "    print(f\"{angka} adalah bilangan genap.\")\n",
    "else:\n",
    "    print(f\"{angka} adalah bilangan ganjil.\")"
   ]
  },
  {
   "cell_type": "markdown",
   "id": "6db6fe68-3d85-42c9-8b7b-6a5ca3c672ed",
   "metadata": {},
   "source": [
    "**4. Program Menghitung Rata-Rata dari List Angka**\n",
    "\n",
    "Program yang menghitung rata-rata dari beberapa angka yang dimasukkan pengguna."
   ]
  },
  {
   "cell_type": "code",
   "execution_count": null,
   "id": "dd0becfc-ee84-49fc-ab20-eaa01ba5aab4",
   "metadata": {},
   "outputs": [],
   "source": [
    "# Menghitung Rata-Rata\n",
    "angka = [float(x) for x in input(\"Masukkan beberapa angka dipisahkan oleh spasi: \").split()]\n",
    "rata_rata = sum(angka) / len(angka)\n",
    "print(f\"Rata-rata dari angka yang dimasukkan: {rata_rata}\")"
   ]
  },
  {
   "cell_type": "markdown",
   "id": "0f6c76e6-d13e-49d3-a7da-dae53b37e404",
   "metadata": {},
   "source": [
    "**5. Program Menghitung Diskon pada Total Pembelian**\n",
    "\n",
    "Menghitung total harga setelah diskon berdasarkan jumlah pembelian."
   ]
  },
  {
   "cell_type": "code",
   "execution_count": null,
   "id": "f9bd9d90-c219-4678-8db8-c818d1876a23",
   "metadata": {},
   "outputs": [],
   "source": [
    "# Menghitung Diskon pada Pembelian\n",
    "total = float(input(\"Masukkan total pembelian: Rp\"))\n",
    "diskon = 0.1 if total > 100000 else 0\n",
    "total_setelah_diskon = total - (total * diskon)\n",
    "print(f\"Total setelah diskon: Rp{total_setelah_diskon}\")"
   ]
  },
  {
   "cell_type": "markdown",
   "id": "f1665374-5e78-4fd9-92dd-3999b94c4b54",
   "metadata": {},
   "source": [
    "**6. Program Kalkulator Sederhana**\n",
    "\n",
    "Program ini menyediakan operasi penjumlahan, pengurangan, perkalian, dan pembagian sesuai pilihan pengguna."
   ]
  },
  {
   "cell_type": "code",
   "execution_count": null,
   "id": "45cde393-bcd9-468a-9775-26948300a24b",
   "metadata": {},
   "outputs": [],
   "source": [
    "# Kalkulator Sederhana\n",
    "print(\"Pilih operasi: 1. Tambah  2. Kurang  3. Kali  4. Bagi\")\n",
    "pilihan = int(input(\"Masukkan pilihan operasi (1/2/3/4): \"))\n",
    "a = float(input(\"Masukkan angka pertama: \"))\n",
    "b = float(input(\"Masukkan angka kedua: \"))\n",
    "\n",
    "if pilihan == 1:\n",
    "    hasil = a + b\n",
    "elif pilihan == 2:\n",
    "    hasil = a - b\n",
    "elif pilihan == 3:\n",
    "    hasil = a * b\n",
    "elif pilihan == 4:\n",
    "    hasil = a / b if b != 0 else \"Tidak bisa membagi dengan nol\"\n",
    "else:\n",
    "    hasil = \"Pilihan tidak valid\"\n",
    "\n",
    "print(f\"Hasil: {hasil}\")"
   ]
  },
  {
   "cell_type": "markdown",
   "id": "80a0c514-3447-4b17-8209-a4c17a4ec317",
   "metadata": {},
   "source": [
    "**7. Program Penghitung Kata dalam Teks**\n",
    "\n",
    "Menghitung jumlah kata dalam kalimat yang dimasukkan oleh pengguna."
   ]
  },
  {
   "cell_type": "code",
   "execution_count": null,
   "id": "e1334fa7-e868-4aee-9bbb-c5ca96582be9",
   "metadata": {},
   "outputs": [],
   "source": [
    "# Menghitung Jumlah Kata\n",
    "teks = input(\"Masukkan kalimat: \")\n",
    "jumlah_kata = len(teks.split())\n",
    "print(f\"Jumlah kata dalam kalimat adalah: {jumlah_kata}\")"
   ]
  },
  {
   "cell_type": "markdown",
   "id": "1eb2ea70-a7be-47ca-bd48-6a118369abf7",
   "metadata": {},
   "source": [
    "**8. Program Penghitung Faktor dari Angka**\n",
    "\n",
    "Program untuk menampilkan semua faktor dari sebuah angka."
   ]
  },
  {
   "cell_type": "code",
   "execution_count": null,
   "id": "dd574d15-8082-45a4-82b2-fd0d8a56f7e6",
   "metadata": {},
   "outputs": [],
   "source": [
    "# Menghitung Faktor dari Angka\n",
    "angka = int(input(\"Masukkan angka: \"))\n",
    "print(f\"Faktor dari {angka} adalah: \")\n",
    "for i in range(1, angka + 1):\n",
    "    if angka % i == 0:\n",
    "        print(i, end=\" \")"
   ]
  },
  {
   "cell_type": "markdown",
   "id": "c1187021-2b90-4790-91ac-c806dcbe6120",
   "metadata": {},
   "source": [
    "**9. Program Mengurutkan List Angka**\n",
    "\n",
    "Mengurutkan list angka dari terkecil ke terbesar."
   ]
  },
  {
   "cell_type": "code",
   "execution_count": null,
   "id": "1e527416-f997-4764-a941-4c235467adfc",
   "metadata": {},
   "outputs": [],
   "source": [
    "# Mengurutkan List Angka\n",
    "angka = [int(x) for x in input(\"Masukkan beberapa angka dipisahkan oleh spasi: \").split()]\n",
    "angka.sort()\n",
    "print(\"List angka setelah diurutkan:\", angka)"
   ]
  },
  {
   "cell_type": "markdown",
   "id": "ffe95164-3cff-4179-b59a-5c229d04dca7",
   "metadata": {},
   "source": [
    "**10. Program Menghitung Jumlah Hari dalam Bulan**\n",
    "\n",
    "Program ini menerima input bulan dan tahun, lalu menghitung jumlah hari dalam bulan tersebut."
   ]
  },
  {
   "cell_type": "code",
   "execution_count": null,
   "id": "60ed85bc-5e4e-4168-913a-2ef94a697568",
   "metadata": {},
   "outputs": [],
   "source": [
    "# Menghitung Jumlah Hari dalam Bulan\n",
    "tahun = int(input(\"Masukkan tahun: \"))\n",
    "bulan = int(input(\"Masukkan bulan (1-12): \"))\n",
    "\n",
    "# Menentukan jumlah hari dalam bulan\n",
    "if bulan in [1, 3, 5, 7, 8, 10, 12]:\n",
    "    hari = 31\n",
    "elif bulan in [4, 6, 9, 11]:\n",
    "    hari = 30\n",
    "elif bulan == 2:\n",
    "    if (tahun % 4 == 0 and tahun % 100 != 0) or (tahun % 400 == 0):\n",
    "        hari = 29\n",
    "    else:\n",
    "        hari = 28\n",
    "else:\n",
    "    hari = \"Bulan tidak valid\"\n",
    "\n",
    "print(f\"Jumlah hari dalam bulan {bulan} tahun {tahun}: {hari}\")"
   ]
  }
 ],
 "metadata": {
  "kernelspec": {
   "display_name": "Python 3 (ipykernel)",
   "language": "python",
   "name": "python3"
  },
  "language_info": {
   "codemirror_mode": {
    "name": "ipython",
    "version": 3
   },
   "file_extension": ".py",
   "mimetype": "text/x-python",
   "name": "python",
   "nbconvert_exporter": "python",
   "pygments_lexer": "ipython3",
   "version": "3.13.0"
  }
 },
 "nbformat": 4,
 "nbformat_minor": 5
}
